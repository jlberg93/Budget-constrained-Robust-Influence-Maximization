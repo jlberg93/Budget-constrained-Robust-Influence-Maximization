{
 "cells": [
  {
   "cell_type": "code",
   "execution_count": 1,
   "id": "cc020d5d",
   "metadata": {},
   "outputs": [],
   "source": [
    "import pandas as pd\n",
    "import statistics"
   ]
  },
  {
   "cell_type": "code",
   "execution_count": 2,
   "id": "22cd37cb",
   "metadata": {},
   "outputs": [],
   "source": [
    "first_data=pd.read_csv(\"C:/Users/Jeremy/Downloads/soc-redditHyperlinks-body.tsv\", sep=\"\\t\",usecols=[0,1])\n",
    "second_data=pd.read_csv(\"C:/Users/Jeremy/Downloads/soc-redditHyperlinks-title.tsv\", sep=\"\\t\",usecols=[0,1])"
   ]
  },
  {
   "cell_type": "code",
   "execution_count": 3,
   "id": "addf6b98",
   "metadata": {},
   "outputs": [],
   "source": [
    "data=pd.concat([first_data,second_data],axis=0)\n",
    "tonum={}\n",
    "counter=0\n",
    "for subr in data['SOURCE_SUBREDDIT']:\n",
    "    if subr not in tonum.keys():\n",
    "        tonum[subr]=counter\n",
    "        counter+=1\n",
    "\n",
    "for subr in data['TARGET_SUBREDDIT']:\n",
    "    if subr not in tonum.keys():\n",
    "        tonum[subr]=counter\n",
    "        counter+=1\n",
    "\n",
    "data['target']=data['SOURCE_SUBREDDIT'].map(tonum)\n",
    "data['source']=data['TARGET_SUBREDDIT'].map(tonum)\n",
    "#swap source and target here to show the spread of information from the target\n",
    "#or hyperlinked subreddit to the source subreddit"
   ]
  },
  {
   "cell_type": "code",
   "execution_count": 4,
   "id": "e17c55ba",
   "metadata": {},
   "outputs": [
    {
     "data": {
      "text/html": [
       "<div>\n",
       "<style scoped>\n",
       "    .dataframe tbody tr th:only-of-type {\n",
       "        vertical-align: middle;\n",
       "    }\n",
       "\n",
       "    .dataframe tbody tr th {\n",
       "        vertical-align: top;\n",
       "    }\n",
       "\n",
       "    .dataframe thead th {\n",
       "        text-align: right;\n",
       "    }\n",
       "</style>\n",
       "<table border=\"1\" class=\"dataframe\">\n",
       "  <thead>\n",
       "    <tr style=\"text-align: right;\">\n",
       "      <th></th>\n",
       "      <th>SOURCE_SUBREDDIT</th>\n",
       "      <th>TARGET_SUBREDDIT</th>\n",
       "      <th>target</th>\n",
       "      <th>source</th>\n",
       "    </tr>\n",
       "  </thead>\n",
       "  <tbody>\n",
       "    <tr>\n",
       "      <th>0</th>\n",
       "      <td>leagueoflegends</td>\n",
       "      <td>teamredditteams</td>\n",
       "      <td>0</td>\n",
       "      <td>2102</td>\n",
       "    </tr>\n",
       "    <tr>\n",
       "      <th>1</th>\n",
       "      <td>theredlion</td>\n",
       "      <td>soccer</td>\n",
       "      <td>1</td>\n",
       "      <td>113</td>\n",
       "    </tr>\n",
       "    <tr>\n",
       "      <th>2</th>\n",
       "      <td>inlandempire</td>\n",
       "      <td>bikela</td>\n",
       "      <td>2</td>\n",
       "      <td>20367</td>\n",
       "    </tr>\n",
       "    <tr>\n",
       "      <th>3</th>\n",
       "      <td>nfl</td>\n",
       "      <td>cfb</td>\n",
       "      <td>3</td>\n",
       "      <td>612</td>\n",
       "    </tr>\n",
       "    <tr>\n",
       "      <th>4</th>\n",
       "      <td>playmygame</td>\n",
       "      <td>gamedev</td>\n",
       "      <td>4</td>\n",
       "      <td>436</td>\n",
       "    </tr>\n",
       "  </tbody>\n",
       "</table>\n",
       "</div>"
      ],
      "text/plain": [
       "  SOURCE_SUBREDDIT TARGET_SUBREDDIT  target  source\n",
       "0  leagueoflegends  teamredditteams       0    2102\n",
       "1       theredlion           soccer       1     113\n",
       "2     inlandempire           bikela       2   20367\n",
       "3              nfl              cfb       3     612\n",
       "4       playmygame          gamedev       4     436"
      ]
     },
     "execution_count": 4,
     "metadata": {},
     "output_type": "execute_result"
    }
   ],
   "source": [
    "data.head()"
   ]
  },
  {
   "cell_type": "code",
   "execution_count": 71,
   "id": "9421b4d7",
   "metadata": {},
   "outputs": [],
   "source": [
    "data2=data.groupby(['source','target']).size().reset_index()\n",
    "#use this one for number of occurrences per edge"
   ]
  },
  {
   "cell_type": "code",
   "execution_count": 99,
   "id": "31237a08",
   "metadata": {},
   "outputs": [],
   "source": [
    "data3=data2[['source','target']]\n",
    "#use this one for even probability across all edges\n",
    "data3['count']=data3.groupby('target')['target'].transform('count')\n",
    "numE=len(data3)\n",
    "numV=len(tonum)\n",
    "data3.loc[-1]=[numV,numE,'']\n",
    "data3.index=data3.index+1\n",
    "data3.sort_index(inplace=True)\n",
    "data3.head()"
   ]
  },
  {
   "cell_type": "code",
   "execution_count": 101,
   "id": "ac24ef69",
   "metadata": {},
   "outputs": [],
   "source": [
    "data3.to_csv(\"reddit_uniform.csv\",sep=' ', header=False, index=False)"
   ]
  },
  {
   "cell_type": "code",
   "execution_count": 102,
   "id": "e0637b47",
   "metadata": {},
   "outputs": [
    {
     "data": {
      "text/plain": [
       "67180"
      ]
     },
     "execution_count": 102,
     "metadata": {},
     "output_type": "execute_result"
    }
   ],
   "source": [
    "numV"
   ]
  },
  {
   "cell_type": "code",
   "execution_count": 104,
   "id": "899c6437",
   "metadata": {},
   "outputs": [
    {
     "data": {
      "text/plain": [
       "count     339644\n",
       "unique       307\n",
       "top            1\n",
       "freq       30193\n",
       "Name: count, dtype: int64"
      ]
     },
     "execution_count": 104,
     "metadata": {},
     "output_type": "execute_result"
    }
   ],
   "source": [
    "data3['count'].describe()"
   ]
  },
  {
   "cell_type": "code",
   "execution_count": 5,
   "id": "46f543a8",
   "metadata": {},
   "outputs": [
    {
     "data": {
      "text/html": [
       "<div>\n",
       "<style scoped>\n",
       "    .dataframe tbody tr th:only-of-type {\n",
       "        vertical-align: middle;\n",
       "    }\n",
       "\n",
       "    .dataframe tbody tr th {\n",
       "        vertical-align: top;\n",
       "    }\n",
       "\n",
       "    .dataframe thead th {\n",
       "        text-align: right;\n",
       "    }\n",
       "</style>\n",
       "<table border=\"1\" class=\"dataframe\">\n",
       "  <thead>\n",
       "    <tr style=\"text-align: right;\">\n",
       "      <th></th>\n",
       "      <th>SOURCE_SUBREDDIT</th>\n",
       "      <th>TARGET_SUBREDDIT</th>\n",
       "      <th>target</th>\n",
       "      <th>source</th>\n",
       "    </tr>\n",
       "  </thead>\n",
       "  <tbody>\n",
       "    <tr>\n",
       "      <th>0</th>\n",
       "      <td>leagueoflegends</td>\n",
       "      <td>teamredditteams</td>\n",
       "      <td>0</td>\n",
       "      <td>2102</td>\n",
       "    </tr>\n",
       "    <tr>\n",
       "      <th>1</th>\n",
       "      <td>theredlion</td>\n",
       "      <td>soccer</td>\n",
       "      <td>1</td>\n",
       "      <td>113</td>\n",
       "    </tr>\n",
       "    <tr>\n",
       "      <th>2</th>\n",
       "      <td>inlandempire</td>\n",
       "      <td>bikela</td>\n",
       "      <td>2</td>\n",
       "      <td>20367</td>\n",
       "    </tr>\n",
       "    <tr>\n",
       "      <th>3</th>\n",
       "      <td>nfl</td>\n",
       "      <td>cfb</td>\n",
       "      <td>3</td>\n",
       "      <td>612</td>\n",
       "    </tr>\n",
       "    <tr>\n",
       "      <th>4</th>\n",
       "      <td>playmygame</td>\n",
       "      <td>gamedev</td>\n",
       "      <td>4</td>\n",
       "      <td>436</td>\n",
       "    </tr>\n",
       "    <tr>\n",
       "      <th>...</th>\n",
       "      <td>...</td>\n",
       "      <td>...</td>\n",
       "      <td>...</td>\n",
       "      <td>...</td>\n",
       "    </tr>\n",
       "    <tr>\n",
       "      <th>571922</th>\n",
       "      <td>seattleshitshow</td>\n",
       "      <td>seattlewa</td>\n",
       "      <td>48817</td>\n",
       "      <td>22198</td>\n",
       "    </tr>\n",
       "    <tr>\n",
       "      <th>571923</th>\n",
       "      <td>peoplewhosayheck</td>\n",
       "      <td>spiderman</td>\n",
       "      <td>50602</td>\n",
       "      <td>1312</td>\n",
       "    </tr>\n",
       "    <tr>\n",
       "      <th>571924</th>\n",
       "      <td>vzla</td>\n",
       "      <td>wtf</td>\n",
       "      <td>2130</td>\n",
       "      <td>28063</td>\n",
       "    </tr>\n",
       "    <tr>\n",
       "      <th>571925</th>\n",
       "      <td>denverbroncos</td>\n",
       "      <td>nfl</td>\n",
       "      <td>33</td>\n",
       "      <td>3</td>\n",
       "    </tr>\n",
       "    <tr>\n",
       "      <th>571926</th>\n",
       "      <td>shitpoliticssays</td>\n",
       "      <td>politicaldiscussion</td>\n",
       "      <td>2875</td>\n",
       "      <td>25</td>\n",
       "    </tr>\n",
       "  </tbody>\n",
       "</table>\n",
       "<p>858488 rows × 4 columns</p>\n",
       "</div>"
      ],
      "text/plain": [
       "        SOURCE_SUBREDDIT     TARGET_SUBREDDIT  target  source\n",
       "0        leagueoflegends      teamredditteams       0    2102\n",
       "1             theredlion               soccer       1     113\n",
       "2           inlandempire               bikela       2   20367\n",
       "3                    nfl                  cfb       3     612\n",
       "4             playmygame              gamedev       4     436\n",
       "...                  ...                  ...     ...     ...\n",
       "571922   seattleshitshow            seattlewa   48817   22198\n",
       "571923  peoplewhosayheck            spiderman   50602    1312\n",
       "571924              vzla                  wtf    2130   28063\n",
       "571925     denverbroncos                  nfl      33       3\n",
       "571926  shitpoliticssays  politicaldiscussion    2875      25\n",
       "\n",
       "[858488 rows x 4 columns]"
      ]
     },
     "execution_count": 5,
     "metadata": {},
     "output_type": "execute_result"
    }
   ],
   "source": [
    "data"
   ]
  },
  {
   "cell_type": "code",
   "execution_count": null,
   "id": "10c2851d",
   "metadata": {},
   "outputs": [],
   "source": [
    "output['Scrum Lead'] = output['Scrum Lead']==1"
   ]
  },
  {
   "cell_type": "code",
   "execution_count": null,
   "id": "5e7d64cb",
   "metadata": {},
   "outputs": [],
   "source": []
  },
  {
   "cell_type": "code",
   "execution_count": null,
   "id": "6d10b430",
   "metadata": {},
   "outputs": [],
   "source": []
  },
  {
   "cell_type": "code",
   "execution_count": null,
   "id": "be2d8d07",
   "metadata": {},
   "outputs": [],
   "source": []
  },
  {
   "cell_type": "code",
   "execution_count": null,
   "id": "74c175a2",
   "metadata": {},
   "outputs": [],
   "source": []
  },
  {
   "cell_type": "code",
   "execution_count": null,
   "id": "24dcae1b",
   "metadata": {},
   "outputs": [],
   "source": []
  },
  {
   "cell_type": "code",
   "execution_count": null,
   "id": "be07fd4d",
   "metadata": {},
   "outputs": [],
   "source": []
  },
  {
   "cell_type": "code",
   "execution_count": null,
   "id": "c6c206b2",
   "metadata": {},
   "outputs": [],
   "source": []
  },
  {
   "cell_type": "code",
   "execution_count": null,
   "id": "7c5ff5f0",
   "metadata": {},
   "outputs": [],
   "source": []
  }
 ],
 "metadata": {
  "kernelspec": {
   "display_name": "Python 3 (ipykernel)",
   "language": "python",
   "name": "python3"
  },
  "language_info": {
   "codemirror_mode": {
    "name": "ipython",
    "version": 3
   },
   "file_extension": ".py",
   "mimetype": "text/x-python",
   "name": "python",
   "nbconvert_exporter": "python",
   "pygments_lexer": "ipython3",
   "version": "3.8.13"
  }
 },
 "nbformat": 4,
 "nbformat_minor": 5
}
